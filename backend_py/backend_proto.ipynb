{
 "cells": [
  {
   "cell_type": "code",
   "execution_count": 212,
   "id": "58ea55f9",
   "metadata": {},
   "outputs": [],
   "source": [
    "import snscrape.modules.twitter as sntwitter\n",
    "import cohere\n",
    "import json\n",
    "import re\n",
    "import emoji\n",
    "\n",
    "URL_PATTERN = r'(?:(?:https?|ftp):\\/\\/)?[\\w/\\-?=%.]+\\.[\\w/\\-&?=%.]+'\n",
    "API_KEY = '{api_Key}'"
   ]
  },
  {
   "cell_type": "code",
   "execution_count": 189,
   "id": "e95381ee",
   "metadata": {},
   "outputs": [],
   "source": [
    "username = 'elonmusk'\n",
    "limit = 100\n",
    "\n",
    "\n",
    "query = f'(from:{username}) until:2020-01-01'\n",
    "tweets = []\n",
    "counter = 0\n",
    "for tweet in sntwitter.TwitterSearchScraper(query).get_items():\n",
    "    counter += 1\n",
    "    tweets.append({\n",
    "        'username': tweet.user.username,\n",
    "        'content': tweet.content,\n",
    "    })\n",
    "    if counter == limit:\n",
    "        break"
   ]
  },
  {
   "cell_type": "code",
   "execution_count": 190,
   "id": "50880f41",
   "metadata": {},
   "outputs": [
    {
     "data": {
      "text/plain": [
       "'elonmusk'"
      ]
     },
     "execution_count": 190,
     "metadata": {},
     "output_type": "execute_result"
    }
   ],
   "source": [
    "tweets[0]['username']"
   ]
  },
  {
   "cell_type": "code",
   "execution_count": 191,
   "id": "f518067d",
   "metadata": {},
   "outputs": [],
   "source": [
    "full_text = ''\n",
    "\n",
    "for tweet in tweets:\n",
    "    full_text += tweet['content']"
   ]
  },
  {
   "cell_type": "code",
   "execution_count": 192,
   "id": "ab6dfa0d",
   "metadata": {},
   "outputs": [],
   "source": [
    "summarizer = '''\n",
    "\n",
    "Hashtags:'''"
   ]
  },
  {
   "cell_type": "code",
   "execution_count": 193,
   "id": "635f9c8d",
   "metadata": {},
   "outputs": [],
   "source": [
    "cohere_prompt = full_text[:2030] + summarizer"
   ]
  },
  {
   "cell_type": "code",
   "execution_count": 194,
   "id": "8e1122bf",
   "metadata": {},
   "outputs": [
    {
     "data": {
      "text/plain": [
       "'\\n\\nHashtags:'"
      ]
     },
     "execution_count": 194,
     "metadata": {},
     "output_type": "execute_result"
    }
   ],
   "source": [
    "summarizer"
   ]
  },
  {
   "cell_type": "code",
   "execution_count": 195,
   "id": "84ec8be1",
   "metadata": {},
   "outputs": [],
   "source": [
    "with open(f'{username}_twitter_data.json', 'w') as f:\n",
    "    json.dump(tweets, f)"
   ]
  },
  {
   "cell_type": "markdown",
   "id": "58f440d0",
   "metadata": {},
   "source": [
    "### Real part"
   ]
  },
  {
   "cell_type": "code",
   "execution_count": 223,
   "id": "90fee4ce",
   "metadata": {},
   "outputs": [],
   "source": [
    "def get_info_from_web(username, limit=100):\n",
    "    query = f'(from:{username}) until:2020-01-01'\n",
    "    tweets = []\n",
    "    counter = 0\n",
    "    \n",
    "    for tweet in sntwitter.TwitterSearchScraper(query).get_items():\n",
    "        counter += 1\n",
    "        tweets.append({\n",
    "            'username': tweet.user.username,\n",
    "            'content': tweet.content,\n",
    "        })\n",
    "        if counter == limit:\n",
    "            break\n",
    "    return tweets"
   ]
  },
  {
   "cell_type": "code",
   "execution_count": 224,
   "id": "deb9cef5",
   "metadata": {},
   "outputs": [],
   "source": [
    "def create_cohere_prompt(tweets):\n",
    "    full_text = ''\n",
    "\n",
    "    for tweet in tweets:\n",
    "        full_text += tweet['content']\n",
    "    \n",
    "    return full_text"
   ]
  },
  {
   "cell_type": "code",
   "execution_count": 196,
   "id": "d6e26666",
   "metadata": {},
   "outputs": [],
   "source": [
    "def cohere_prediction(prompt):\n",
    "    co = cohere.Client(API_KEY)\n",
    "    response = co.generate(\n",
    "      model='large',\n",
    "      prompt=prompt,\n",
    "      max_tokens=50,\n",
    "      temperature=0.8,\n",
    "      k=0,\n",
    "      p=1,\n",
    "      frequency_penalty=0,\n",
    "      presence_penalty=0,\n",
    "      stop_sequences=[\"--\"],\n",
    "      return_likelihoods='NONE')\n",
    "    \n",
    "    return response.generations[0].text"
   ]
  },
  {
   "cell_type": "code",
   "execution_count": 197,
   "id": "7a7b57ec",
   "metadata": {},
   "outputs": [],
   "source": [
    "def get_hashtags(prompt):\n",
    "    summarizer = '''\n",
    "\n",
    "Hashtags:'''\n",
    "    prompt = prompt[:2030]\n",
    "    prompt += summarizer\n",
    "    pred = cohere_prediction(prompt)\n",
    "    return list(map(lambda x: '#' + x, re.findall(r\"#(\\w+)\", pred)))"
   ]
  },
  {
   "cell_type": "code",
   "execution_count": 198,
   "id": "8c3292df",
   "metadata": {},
   "outputs": [],
   "source": [
    "def get_summary(prompt):\n",
    "    summarizer = '''\n",
    "\n",
    "In summary:'''\n",
    "    prompt = prompt[:2030]\n",
    "    prompt += summarizer\n",
    "    pred = cohere_prediction(prompt)\n",
    "    return pred"
   ]
  },
  {
   "cell_type": "code",
   "execution_count": 199,
   "id": "b3252e0f",
   "metadata": {},
   "outputs": [],
   "source": [
    "def get_urls(prompt):\n",
    "    summarizer = '''\n",
    "\n",
    "URLs:'''\n",
    "    prompt = prompt[:2030]\n",
    "    prompt += summarizer\n",
    "    pred = cohere_prediction(prompt)\n",
    "    return re.findall(URL_PATTERN, pred)"
   ]
  },
  {
   "cell_type": "code",
   "execution_count": 234,
   "id": "36205e9a",
   "metadata": {},
   "outputs": [],
   "source": [
    "def get_mood(prompt):\n",
    "    summarizer = '''\n",
    "\n",
    "My mood:'''\n",
    "    prompt = prompt[:2030]\n",
    "    prompt += summarizer\n",
    "    pred = cohere_prediction(prompt)\n",
    "    return pred"
   ]
  },
  {
   "cell_type": "code",
   "execution_count": 221,
   "id": "efb35548",
   "metadata": {},
   "outputs": [],
   "source": [
    "def get_emojis(prompt):\n",
    "    summarizer = '''\n",
    "\n",
    "Emojis:'''\n",
    "    prompt = prompt[:2030]\n",
    "    prompt += summarizer\n",
    "    pred = cohere_prediction(prompt)\n",
    "    return list(set(re.findall(r'[^\\w\\s,.]', pred)))"
   ]
  },
  {
   "cell_type": "code",
   "execution_count": 242,
   "id": "497b8d68",
   "metadata": {},
   "outputs": [],
   "source": [
    "def save_json(data):\n",
    "    username = data['username']\n",
    "    with open(f'cohere_hack_data/{username}_data.json', 'w') as f:\n",
    "        json.dump(data, f)"
   ]
  },
  {
   "cell_type": "code",
   "execution_count": 202,
   "id": "9c0a82c1",
   "metadata": {},
   "outputs": [
    {
     "data": {
      "text/plain": [
       "['#Tesla', '#TeslaUnplugged', '#SpaceX']"
      ]
     },
     "execution_count": 202,
     "metadata": {},
     "output_type": "execute_result"
    }
   ],
   "source": [
    "get_hashtags(full_text)"
   ]
  },
  {
   "cell_type": "code",
   "execution_count": 203,
   "id": "b0337656",
   "metadata": {},
   "outputs": [
    {
     "name": "stdout",
     "output_type": "stream",
     "text": [
      " it's less than the 550 kWh of the Model 3, but it's enough to last for 1.5 years of typical US driving, which is how long the battery is expected to last. 300 kWh is the best-case scenario for\n"
     ]
    }
   ],
   "source": [
    "print(get_summary(full_text))"
   ]
  },
  {
   "cell_type": "code",
   "execution_count": 204,
   "id": "ca705eaa",
   "metadata": {},
   "outputs": [
    {
     "name": "stdout",
     "output_type": "stream",
     "text": [
      "['https://twitter.com/search?q=Spacex', 'https://en.wikipedia.org/wiki/SpaceX']\n"
     ]
    }
   ],
   "source": [
    "print(get_urls(full_text))"
   ]
  },
  {
   "cell_type": "code",
   "execution_count": 235,
   "id": "00ef89a4",
   "metadata": {},
   "outputs": [
    {
     "name": "stdout",
     "output_type": "stream",
     "text": [
      " \"I need to get into some more serious physical therapy ASAP\"\n",
      "Helpful inventions?\n",
      "@skypechicken @PhillyTesla @richard_staniforth @JohnnaCrider1 @TeslaGong @lil\n"
     ]
    }
   ],
   "source": [
    "print(get_mood(full_text))"
   ]
  },
  {
   "cell_type": "code",
   "execution_count": 253,
   "id": "5b7c19c5",
   "metadata": {},
   "outputs": [
    {
     "name": "stdout",
     "output_type": "stream",
     "text": [
      "[':', '/', '!', '✨', '’', '@']\n"
     ]
    }
   ],
   "source": [
    "print(get_emojis(full_text))"
   ]
  },
  {
   "cell_type": "code",
   "execution_count": 258,
   "id": "96a19fdb",
   "metadata": {},
   "outputs": [],
   "source": [
    "def pipe(username):\n",
    "    tweets = get_info_from_web(username)\n",
    "    prompt = create_cohere_prompt(tweets)\n",
    "    data = {\n",
    "        'username': username,\n",
    "        'hashtags': get_hashtags(prompt),\n",
    "        'summary': get_summary(prompt),\n",
    "        'urls': get_urls(prompt),\n",
    "        'emojis': get_emojis(prompt),\n",
    "        'mood': get_mood(prompt)\n",
    "    }\n",
    "    \n",
    "    save_json(data)\n",
    "    return data"
   ]
  },
  {
   "cell_type": "code",
   "execution_count": 267,
   "id": "4ae86c9f",
   "metadata": {},
   "outputs": [
    {
     "data": {
      "text/plain": [
       "{'username': 'trump',\n",
       " 'hashtags': ['#TrumpNews',\n",
       "  '#trade',\n",
       "  '#BREXIT',\n",
       "  '#News',\n",
       "  '#Trump',\n",
       "  '#Elections',\n",
       "  '#2020Selection',\n",
       "  '#CollegeFootball',\n",
       "  '#TrumpTaxes',\n",
       "  '#TrumpDoral',\n",
       "  '#TrumpTaxes',\n",
       "  '#TrumpTaxes'],\n",
       " 'summary': ' I need to buy a new pair of pants because I’m going to spew out my guts within 30 minutes of stepping on a plane and undergoing intense in-flight turbulence.\\n\\nThis, however, is life.\\n\\nMoney.',\n",
       " 'urls': ['https://t.co/m9iItIDUUphttps',\n",
       "  '//t.co/Jcs81sZi1Mhttps',\n",
       "  '//t.co/oy4LQiZOVvhttps',\n",
       "  '//t.co/Mw'],\n",
       " 'emojis': ['🐶', '🦁', ':', '🕛', '/', '🐾', '✨', '@'],\n",
       " 'mood': ' https://t.co/fsOyfOubyJMonday #MotivationMonday https://t.co/Np5xyTjdq8\\n\\nOpened my new Trump Tower home office yesterday and this view is breathtaking ���'}"
      ]
     },
     "execution_count": 267,
     "metadata": {},
     "output_type": "execute_result"
    }
   ],
   "source": [
    "pipe('trump')"
   ]
  },
  {
   "cell_type": "code",
   "execution_count": null,
   "id": "004ccb7e",
   "metadata": {},
   "outputs": [],
   "source": []
  }
 ],
 "metadata": {
  "kernelspec": {
   "display_name": "Python 3 (ipykernel)",
   "language": "python",
   "name": "python3"
  },
  "language_info": {
   "codemirror_mode": {
    "name": "ipython",
    "version": 3
   },
   "file_extension": ".py",
   "mimetype": "text/x-python",
   "name": "python",
   "nbconvert_exporter": "python",
   "pygments_lexer": "ipython3",
   "version": "3.10.6"
  }
 },
 "nbformat": 4,
 "nbformat_minor": 5
}
